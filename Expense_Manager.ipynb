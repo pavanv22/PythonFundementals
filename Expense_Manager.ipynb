{
 "cells": [
  {
   "cell_type": "code",
   "execution_count": 1,
   "id": "5305db70-76f4-4e51-836c-a62f6e4ff1a6",
   "metadata": {},
   "outputs": [],
   "source": [
    "import csv\n",
    "from datetime import datetime as dt\n",
    "from tabulate import tabulate"
   ]
  },
  {
   "cell_type": "code",
   "execution_count": 2,
   "id": "292f180a-3c6d-4b74-b76a-2b3b0c4316bd",
   "metadata": {},
   "outputs": [],
   "source": [
    "filename = 'expense_file.csv'\n",
    "file_headers = ['date', 'category', 'amount', 'description', 'budget']\n",
    "\n",
    "has_header = False\n",
    "\n",
    "try:\n",
    "\n",
    "    with open(filename, mode='r', newline='') as csvfile:\n",
    "        reader = csv.reader(csvfile)\n",
    "        \n",
    "        # Read the first row (header)\n",
    "        headers = next(reader, None)\n",
    "        if headers is not None:\n",
    "            has_header = True\n",
    "    \n",
    "    if not has_header:\n",
    "        with open(filename, mode='w', newline='') as csvfile:\n",
    "            writer = csv.DictWriter(csvfile, fieldnames=file_headers)\n",
    "            \n",
    "            writer.writeheader() \n",
    "            \n",
    "except FileNotFoundError:\n",
    "    with open(filename, mode='w', newline='') as csvfile:\n",
    "            writer = csv.DictWriter(csvfile, fieldnames=file_headers)\n",
    "            \n",
    "            writer.writeheader()\n",
    "    "
   ]
  },
  {
   "cell_type": "markdown",
   "id": "68f91a87-54b7-4e54-80d3-c1e402eb3bf3",
   "metadata": {},
   "source": [
    "### Save Expense"
   ]
  },
  {
   "cell_type": "code",
   "execution_count": 4,
   "id": "7fe50097-7750-4dae-ab0d-f0b6d3b3dbb5",
   "metadata": {},
   "outputs": [],
   "source": [
    "def save_expense(dict_list):\n",
    "    filename = 'expense_file.csv'\n",
    "    with open(filename, mode='a', newline='') as csvfile:\n",
    "        writer = csv.DictWriter(csvfile, fieldnames=dict_list[0].keys())\n",
    "        \n",
    "        if csvfile.tell() == 0:\n",
    "            writer.writeheader()\n",
    "        \n",
    "        writer.writerows(dict_list)"
   ]
  },
  {
   "cell_type": "code",
   "execution_count": 5,
   "id": "673b6b40-3b08-4a65-a0d0-cda86d22825f",
   "metadata": {},
   "outputs": [],
   "source": [
    "def read_integer():\n",
    "    while True:\n",
    "        cat_choice = input()\n",
    "        try:\n",
    "            cat_choice = int(cat_choice)\n",
    "            break\n",
    "        except Exception:\n",
    "            print(\"Enter a valid integer\")\n",
    "    return cat_choice\n",
    "\n",
    "\n",
    "def read_float():\n",
    "    while True:\n",
    "        cat_choice = input()\n",
    "        try:\n",
    "            cat_choice = float(cat_choice)\n",
    "            break\n",
    "        except Exception:\n",
    "            print(\"Enter a valid Float\")\n",
    "    return cat_choice"
   ]
  },
  {
   "cell_type": "markdown",
   "id": "044edba8-a22c-42db-9caa-b552c13a449d",
   "metadata": {},
   "source": [
    "### Add Expense"
   ]
  },
  {
   "cell_type": "code",
   "execution_count": 7,
   "id": "992cd385-f981-4d92-81f3-b9a9745559d4",
   "metadata": {},
   "outputs": [],
   "source": [
    "def add_expense():\n",
    "    print(\"Hi, Enter the below details to add expenses\")\n",
    "    date_format = \"%Y-%m-%d\"\n",
    "    \n",
    "    while True:\n",
    "        date_input = input(\"Enter date in YYYY-MM-DD format:\")\n",
    "        try:\n",
    "            parsed_dt = dt.strptime(date_input, date_format)\n",
    "            break\n",
    "        except Exception:\n",
    "            print(\"Invalid Date Format\")\n",
    "\n",
    "    print(\"Select the Expense category \\n 1 -> Food \\n 2 -> Travel \\n 3 -> Clothing \\n 4 -> Entertainment \\n 5 -> Misc\")\n",
    "\n",
    "    while True:\n",
    "        cat_choice = input()\n",
    "        try:\n",
    "            cat_choice = int(cat_choice)\n",
    "            break\n",
    "        except Exception:\n",
    "            print(\"Enter a valid integer\")\n",
    "    \n",
    "    if cat_choice == 1:\n",
    "        exp_cat = 'Food'\n",
    "    elif cat_choice == 2:\n",
    "        exp_cat = 'Travel'\n",
    "    elif cat_choice == 3:\n",
    "        exp_cat = 'Clothing'\n",
    "    elif cat_choice == 4:\n",
    "        exp_cat = 'Entertainment'\n",
    "    elif cat_choice == 5:\n",
    "        exp_cat = 'Misc'\n",
    "    else:\n",
    "        cat_choice = 'Others'\n",
    "\n",
    "    print(\"Enter expense amount\")\n",
    "    amt = read_float()\n",
    "\n",
    "    exp_desc = input(\"Enter the expense description\")\n",
    "\n",
    "    # Storing in a Dict\n",
    "    dict_list = []\n",
    "    row = {\n",
    "        \"date\" : parsed_dt,\n",
    "        \"category\" : exp_cat,\n",
    "        \"amount\" : amt,\n",
    "        \"description\" : exp_desc,\n",
    "        \"budget\":100   # Default expense\n",
    "    }\n",
    "    dict_list.append(row)\n",
    "\n",
    "    return dict_list   \n"
   ]
  },
  {
   "cell_type": "markdown",
   "id": "11c62399-baee-4f53-af90-2b199ea7cf54",
   "metadata": {},
   "source": [
    "### View Expense"
   ]
  },
  {
   "cell_type": "code",
   "execution_count": 9,
   "id": "55f04d68-e49f-4ad1-b282-1149ba12bb86",
   "metadata": {},
   "outputs": [],
   "source": [
    "def view_expense():\n",
    "    filename = 'expense_file.csv'\n",
    "    i = 0\n",
    "    with open(filename, mode='r', newline='') as file:\n",
    "        reader = csv.DictReader(file)\n",
    "        for row in reader:\n",
    "            i+=1\n",
    "        if i == 0:\n",
    "             print(\"No available expenses to show. Add expense to view\")\n",
    "            \n",
    "    with open(filename, mode='r', newline='') as file:\n",
    "        reader = csv.DictReader(file)              \n",
    "        for row in reader:\n",
    "            if any(value == '' for value in row.values()):\n",
    "                print(f\"Row contains null values: {row}\")\n",
    "    \n",
    "    with open(filename, mode='r', newline='') as file:\n",
    "        reader = csv.DictReader(file)             \n",
    "        data = [row for row in reader]\n",
    "        print(tabulate(data, headers=\"keys\", tablefmt=\"grid\"))"
   ]
  },
  {
   "cell_type": "markdown",
   "id": "5a218a26-83bf-4039-bcbd-fa8bb5b0effe",
   "metadata": {},
   "source": [
    "### save budget"
   ]
  },
  {
   "cell_type": "code",
   "execution_count": 11,
   "id": "38201bba-f30a-4a4a-ac5d-ad2eb1a558c9",
   "metadata": {},
   "outputs": [],
   "source": [
    "def save_budget(file_path, month, update_field, new_value):\n",
    "    rows = []\n",
    "    \n",
    "    # Read the existing CSV file\n",
    "    with open(file_path, mode='r') as csvfile:\n",
    "        reader = csv.DictReader(csvfile)\n",
    "        rows = list(reader)  # Load all rows into memory\n",
    "\n",
    "    # Update the specified rows\n",
    "    for row in rows:\n",
    "        # Convert the date string to a datetime object\n",
    "        date_str = row['date']\n",
    "        date_obj = dt.strptime(date_str, '%Y-%m-%d %H:%M:%S')  # Adjust format as necessary\n",
    "\n",
    "        # Check if the month matches\n",
    "        if date_obj.month == month:\n",
    "            row[update_field] = new_value  # Update the specified field with new value\n",
    "\n",
    "    # Write the updated rows back to the CSV file\n",
    "    with open(file_path, mode='w', newline='') as csvfile:\n",
    "        fieldnames = rows[0].keys()  # Get field names from the first row\n",
    "        writer = csv.DictWriter(csvfile, fieldnames=fieldnames)\n",
    "        \n",
    "        writer.writeheader()  # Write header\n",
    "        writer.writerows(rows)  # Write updated rows"
   ]
  },
  {
   "cell_type": "markdown",
   "id": "095c472c-9e1d-40e8-a8f4-17f9d9943ce5",
   "metadata": {},
   "source": [
    "### Set Budget"
   ]
  },
  {
   "cell_type": "code",
   "execution_count": 13,
   "id": "98102fce-b781-42d0-8408-fa5a5cd9c687",
   "metadata": {},
   "outputs": [],
   "source": [
    "def set_budget():\n",
    "    print(\"Enter the Budget Month Number\")\n",
    "    month = read_integer()\n",
    "\n",
    "    print(\"Enter the Budget for the month\")\n",
    "    month_budget = read_float()\n",
    "\n",
    "    save_budget(filename, month, 'budget', month_budget)\n",
    "\n",
    "    filtered_rows = []\n",
    "    \n",
    "    with open(filename , mode='r') as csvfile:\n",
    "        reader = csv.DictReader(csvfile)\n",
    "        \n",
    "        for row in reader:\n",
    "            # Convert the date string to a datetime object\n",
    "            date_str = row['date']\n",
    "            date_obj = dt.strptime(date_str, '%Y-%m-%d %H:%M:%S')\n",
    "            \n",
    "            # Check if the month matches\n",
    "            if date_obj.month == month:\n",
    "                row['budget'] = month_budget\n",
    "                filtered_rows.append(row)\n",
    "    for row in filtered_rows:\n",
    "        try:\n",
    "            row['amount'] = float(row['amount'])\n",
    "        except ValueError:\n",
    "            row['amount'] = None  # or handle it in another way\n",
    "\n",
    "\n",
    "    if ((sum(row['amount'] for row in filtered_rows)) > (sum(row['budget'] for row in filtered_rows)/len(filtered_rows))):\n",
    "        print(\"Warning! Crossed budget by\",((sum(row['amount'] for row in filtered_rows)) - (sum(row['budget'] for row in filtered_rows)/len(filtered_rows))))\n",
    "    else:\n",
    "        print(\"Amount left is\",((sum(row['amount'] for row in filtered_rows)/len(filtered_rows)) - (sum(row['budget'] for row in filtered_rows))))\n",
    "            \n",
    "    \n",
    "    \n",
    "        "
   ]
  },
  {
   "cell_type": "markdown",
   "id": "43b857e4-2ba6-4fdd-9bfc-727878aec413",
   "metadata": {},
   "source": [
    "## Driver Funtion"
   ]
  },
  {
   "cell_type": "code",
   "execution_count": 15,
   "id": "affd85a3-9f2a-457e-b75b-58cc61849c9d",
   "metadata": {
    "scrolled": true
   },
   "outputs": [
    {
     "name": "stdout",
     "output_type": "stream",
     "text": [
      "Enter your choice.....\n",
      "1 -> Add expense\n",
      "2 -> View expense\n",
      "3 -> Track budget\n",
      "4 -> Save expense to a file\n",
      "5 -> Exit\n"
     ]
    },
    {
     "name": "stdin",
     "output_type": "stream",
     "text": [
      " 1\n"
     ]
    },
    {
     "name": "stdout",
     "output_type": "stream",
     "text": [
      "Hi, Enter the below details to add expenses\n"
     ]
    },
    {
     "name": "stdin",
     "output_type": "stream",
     "text": [
      "Enter date in YYYY-MM-DD format: 12-11-2024\n"
     ]
    },
    {
     "name": "stdout",
     "output_type": "stream",
     "text": [
      "Invalid Date Format\n"
     ]
    },
    {
     "name": "stdin",
     "output_type": "stream",
     "text": [
      "Enter date in YYYY-MM-DD format: 2024-11-11\n"
     ]
    },
    {
     "name": "stdout",
     "output_type": "stream",
     "text": [
      "Select the Expense category \n",
      " 1 -> Food \n",
      " 2 -> Travel \n",
      " 3 -> Clothing \n",
      " 4 -> Entertainment \n",
      " 5 -> Misc\n"
     ]
    },
    {
     "name": "stdin",
     "output_type": "stream",
     "text": [
      " 1\n"
     ]
    },
    {
     "name": "stdout",
     "output_type": "stream",
     "text": [
      "Enter expense amount\n"
     ]
    },
    {
     "name": "stdin",
     "output_type": "stream",
     "text": [
      " 100\n",
      "Enter the expense description lunch\n"
     ]
    },
    {
     "name": "stdout",
     "output_type": "stream",
     "text": [
      "Enter your choice.....\n",
      "1 -> Add expense\n",
      "2 -> View expense\n",
      "3 -> Track budget\n",
      "4 -> Save expense to a file\n",
      "5 -> Exit\n"
     ]
    },
    {
     "name": "stdin",
     "output_type": "stream",
     "text": [
      " 1\n"
     ]
    },
    {
     "name": "stdout",
     "output_type": "stream",
     "text": [
      "Hi, Enter the below details to add expenses\n"
     ]
    },
    {
     "name": "stdin",
     "output_type": "stream",
     "text": [
      "Enter date in YYYY-MM-DD format: 2024-11-10\n"
     ]
    },
    {
     "name": "stdout",
     "output_type": "stream",
     "text": [
      "Select the Expense category \n",
      " 1 -> Food \n",
      " 2 -> Travel \n",
      " 3 -> Clothing \n",
      " 4 -> Entertainment \n",
      " 5 -> Misc\n"
     ]
    },
    {
     "name": "stdin",
     "output_type": "stream",
     "text": [
      " 2\n"
     ]
    },
    {
     "name": "stdout",
     "output_type": "stream",
     "text": [
      "Enter expense amount\n"
     ]
    },
    {
     "name": "stdin",
     "output_type": "stream",
     "text": [
      " 150\n",
      "Enter the expense description To Office\n"
     ]
    },
    {
     "name": "stdout",
     "output_type": "stream",
     "text": [
      "Enter your choice.....\n",
      "1 -> Add expense\n",
      "2 -> View expense\n",
      "3 -> Track budget\n",
      "4 -> Save expense to a file\n",
      "5 -> Exit\n"
     ]
    },
    {
     "name": "stdin",
     "output_type": "stream",
     "text": [
      " 4\n"
     ]
    },
    {
     "name": "stdout",
     "output_type": "stream",
     "text": [
      "Enter your choice.....\n",
      "1 -> Add expense\n",
      "2 -> View expense\n",
      "3 -> Track budget\n",
      "4 -> Save expense to a file\n",
      "5 -> Exit\n"
     ]
    },
    {
     "name": "stdin",
     "output_type": "stream",
     "text": [
      " 2\n"
     ]
    },
    {
     "name": "stdout",
     "output_type": "stream",
     "text": [
      "+---------------------+------------+----------+---------------+----------+\n",
      "| date                | category   |   amount | description   |   budget |\n",
      "+=====================+============+==========+===============+==========+\n",
      "| 1111-11-11 00:00:00 | Food       |      111 | aadcd         |      100 |\n",
      "+---------------------+------------+----------+---------------+----------+\n",
      "| 1111-11-11 00:00:00 | Food       |      111 | aadcd         |      100 |\n",
      "+---------------------+------------+----------+---------------+----------+\n",
      "| 2024-11-11 00:00:00 | Food       |      100 | lunch         |      100 |\n",
      "+---------------------+------------+----------+---------------+----------+\n",
      "| 2024-11-10 00:00:00 | Travel     |      150 | To Office     |      100 |\n",
      "+---------------------+------------+----------+---------------+----------+\n",
      "Enter your choice.....\n",
      "1 -> Add expense\n",
      "2 -> View expense\n",
      "3 -> Track budget\n",
      "4 -> Save expense to a file\n",
      "5 -> Exit\n"
     ]
    },
    {
     "name": "stdin",
     "output_type": "stream",
     "text": [
      " 3\n"
     ]
    },
    {
     "name": "stdout",
     "output_type": "stream",
     "text": [
      "Enter the Budget Month Number\n"
     ]
    },
    {
     "name": "stdin",
     "output_type": "stream",
     "text": [
      " 11\n"
     ]
    },
    {
     "name": "stdout",
     "output_type": "stream",
     "text": [
      "Enter the Budget for the month\n"
     ]
    },
    {
     "name": "stdin",
     "output_type": "stream",
     "text": [
      " 400\n"
     ]
    },
    {
     "name": "stdout",
     "output_type": "stream",
     "text": [
      "Warning! Crossed budget by 72.0\n",
      "Enter your choice.....\n",
      "1 -> Add expense\n",
      "2 -> View expense\n",
      "3 -> Track budget\n",
      "4 -> Save expense to a file\n",
      "5 -> Exit\n"
     ]
    },
    {
     "name": "stdin",
     "output_type": "stream",
     "text": [
      " 2\n"
     ]
    },
    {
     "name": "stdout",
     "output_type": "stream",
     "text": [
      "+---------------------+------------+----------+---------------+----------+\n",
      "| date                | category   |   amount | description   |   budget |\n",
      "+=====================+============+==========+===============+==========+\n",
      "| 1111-11-11 00:00:00 | Food       |      111 | aadcd         |      400 |\n",
      "+---------------------+------------+----------+---------------+----------+\n",
      "| 1111-11-11 00:00:00 | Food       |      111 | aadcd         |      400 |\n",
      "+---------------------+------------+----------+---------------+----------+\n",
      "| 2024-11-11 00:00:00 | Food       |      100 | lunch         |      400 |\n",
      "+---------------------+------------+----------+---------------+----------+\n",
      "| 2024-11-10 00:00:00 | Travel     |      150 | To Office     |      400 |\n",
      "+---------------------+------------+----------+---------------+----------+\n",
      "Enter your choice.....\n",
      "1 -> Add expense\n",
      "2 -> View expense\n",
      "3 -> Track budget\n",
      "4 -> Save expense to a file\n",
      "5 -> Exit\n"
     ]
    },
    {
     "name": "stdin",
     "output_type": "stream",
     "text": [
      " 5\n"
     ]
    }
   ],
   "source": [
    "add_count = 0\n",
    "dict_list_exp = []\n",
    "while True:\n",
    "    print('Enter your choice.....')\n",
    "    print('1 -> Add expense')\n",
    "    print('2 -> View expense')\n",
    "    print('3 -> Track budget')\n",
    "    print('4 -> Save expense to a file')\n",
    "    print('5 -> Exit')\n",
    "    \n",
    "    choice = read_integer()\n",
    "    if choice == 1:\n",
    "        dict_list = add_expense()\n",
    "        add_count += 1\n",
    "        dict_list_exp = dict_list_exp + dict_list\n",
    "    elif choice == 2:\n",
    "        view_expense()\n",
    "    elif choice == 3:\n",
    "        set_budget()\n",
    "    elif choice == 4:\n",
    "        save_expense(dict_list_exp)\n",
    "    elif choice == 5:\n",
    "        break\n",
    "    else:\n",
    "        print(\"enter a valid number\")"
   ]
  },
  {
   "cell_type": "code",
   "execution_count": null,
   "id": "61464ade-8e74-4c88-a862-f2e3e1fdc859",
   "metadata": {},
   "outputs": [],
   "source": []
  }
 ],
 "metadata": {
  "kernelspec": {
   "display_name": "Python 3 (ipykernel)",
   "language": "python",
   "name": "python3"
  },
  "language_info": {
   "codemirror_mode": {
    "name": "ipython",
    "version": 3
   },
   "file_extension": ".py",
   "mimetype": "text/x-python",
   "name": "python",
   "nbconvert_exporter": "python",
   "pygments_lexer": "ipython3",
   "version": "3.12.7"
  }
 },
 "nbformat": 4,
 "nbformat_minor": 5
}
